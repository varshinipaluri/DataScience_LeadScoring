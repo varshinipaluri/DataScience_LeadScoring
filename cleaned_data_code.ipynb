{
 "cells": [
  {
   "cell_type": "code",
   "execution_count": 52,
   "metadata": {},
   "outputs": [
    {
     "name": "stdout",
     "output_type": "stream",
     "text": [
      "Index(['Prospect ID', 'Lead Number', 'Lead Origin', 'Lead Source',\n",
      "       'Do Not Email', 'Do Not Call', 'Converted', 'TotalVisits',\n",
      "       'Total Time Spent on Website', 'Page Views Per Visit', 'Last Activity',\n",
      "       'Country', 'Specialization', 'How did you hear about X Education',\n",
      "       'What is your current occupation',\n",
      "       'What matters most to you in choosing a course', 'Search', 'Magazine',\n",
      "       'Newspaper Article', 'X Education Forums', 'Newspaper',\n",
      "       'Digital Advertisement', 'Through Recommendations', 'Tags',\n",
      "       'Lead Quality', 'Lead Profile', 'City', 'Asymmetrique Activity Index',\n",
      "       'Asymmetrique Profile Index', 'Asymmetrique Activity Score',\n",
      "       'Asymmetrique Profile Score', 'A free copy of Mastering The Interview',\n",
      "       'Last Notable Activity'],\n",
      "      dtype='object')\n"
     ]
    }
   ],
   "source": [
    "import pandas as pd\n",
    "df = pd.read_csv('Lead_Scoring.csv')\n",
    "\n",
    "columns_to_drop = [ 'Receive More Updates About Our Courses', 'Update me on Supply Chain Content', \n",
    "                   'Get updates on DM Content','I agree to pay the amount through cheque']\n",
    "df = df.drop(columns=columns_to_drop)\n",
    "\n",
    "# Verify columns are dropped\n",
    "print(df.columns)\n",
    "\n",
    "numerical_columns = ['TotalVisits', 'Page Views Per Visit', 'Asymmetrique Activity Score', \n",
    "                     'Asymmetrique Profile Score']\n",
    "df[numerical_columns] = df[numerical_columns].fillna(df[numerical_columns].mean()).astype(int)"
   ]
  },
  {
   "cell_type": "code",
   "execution_count": 53,
   "metadata": {},
   "outputs": [],
   "source": [
    "categorical_columns = ['Lead Source', 'Country', 'Specialization', 'Tags', \n",
    "                       'How did you hear about X Education', 'What is your current occupation', \n",
    "                       'What matters most to you in choosing a course', 'Lead Profile', \n",
    "                        'Last Activity']\n",
    "df[categorical_columns] = df[categorical_columns].fillna('Other')\n",
    "df['Lead Quality'] = df['Lead Quality'].fillna('Not Sure')\n",
    "df['City'] = df['City'].fillna('Other Cities')"
   ]
  },
  {
   "cell_type": "code",
   "execution_count": 54,
   "metadata": {},
   "outputs": [
    {
     "name": "stderr",
     "output_type": "stream",
     "text": [
      "C:\\Users\\PaluriVarshini\\AppData\\Local\\Temp\\ipykernel_8504\\3775362404.py:6: FutureWarning: Downcasting behavior in `replace` is deprecated and will be removed in a future version. To retain the old behavior, explicitly call `result.infer_objects(copy=False)`. To opt-in to the future behavior, set `pd.set_option('future.no_silent_downcasting', True)`\n",
      "  df[col] = df[col].replace('No', 0)\n"
     ]
    }
   ],
   "source": [
    "binary_columns = ['Do Not Email', 'Do Not Call', 'Search', 'Magazine', 'Newspaper Article',\n",
    "                  'X Education Forums', 'Newspaper', 'Digital Advertisement', 'Through Recommendations',\n",
    "                  'A free copy of Mastering The Interview']\n",
    "for col in binary_columns:\n",
    "    df[col] = df[col].replace('Yes', 1)\n",
    "    df[col] = df[col].replace('No', 0)"
   ]
  },
  {
   "cell_type": "code",
   "execution_count": 55,
   "metadata": {},
   "outputs": [
    {
     "name": "stdout",
     "output_type": "stream",
     "text": [
      "['Prospect ID', 'Lead Number', 'Lead Origin', 'Lead Source', 'Do Not Email', 'Do Not Call', 'Converted', 'TotalVisits', 'Total Time Spent on Website', 'Page Views Per Visit', 'Last Activity', 'Country', 'Specialization', 'How did you hear about X Education', 'What is your current occupation', 'What matters most to you in choosing a course', 'Search', 'Magazine', 'Newspaper Article', 'X Education Forums', 'Newspaper', 'Digital Advertisement', 'Through Recommendations', 'Tags', 'Lead Quality', 'Lead Profile', 'City', 'Asymmetrique Activity Index', 'Asymmetrique Profile Index', 'Asymmetrique Activity Score', 'Asymmetrique Profile Score', 'A free copy of Mastering The Interview', 'Last Notable Activity']\n",
      "['Prospect ID', 'Lead Number', 'Lead Origin', 'Lead Source', 'Do Not Email', 'Do Not Call', 'Converted', 'TotalVisits', 'Total Time Spent on Website', 'Page Views Per Visit', 'Last Activity', 'Country', 'Specialization', 'How did you hear about X Education', 'What is your current occupation', 'What matters most to you in choosing a course', 'Search', 'Newspaper Article', 'X Education Forums', 'Newspaper', 'Digital Advertisement', 'Through Recommendations', 'Tags', 'Lead Quality', 'Lead Profile', 'City', 'Asymmetrique Activity Index', 'Asymmetrique Profile Index', 'Asymmetrique Activity Score', 'Asymmetrique Profile Score', 'A free copy of Mastering The Interview', 'Last Notable Activity']\n"
     ]
    }
   ],
   "source": [
    "print(df.columns.to_list())\n",
    "df.drop(columns=['Magazine'], inplace=True)\n",
    "print(df.columns.to_list())"
   ]
  },
  {
   "cell_type": "code",
   "execution_count": 56,
   "metadata": {},
   "outputs": [],
   "source": [
    "df['Country'] = df['Country'].replace('unknown', 'Other')\n",
    "df['Specialization'] = df['Specialization'].replace('Select', 'Other')\n",
    "df['Lead Profile'] = df['Lead Profile'].replace('Select', 'Other')\n",
    "df['City'] = df['City'].replace('Select', 'Other Cities')\n",
    "df['City']= df['City'].replace('Other Metro Cities', 'Other Cities')\n",
    "df['How did you hear about X Education'] = df['How did you hear about X Education'].replace('Select', 'Other')"
   ]
  },
  {
   "cell_type": "code",
   "execution_count": 57,
   "metadata": {},
   "outputs": [],
   "source": [
    "df['Asymmetrique Activity Index'] = df['Asymmetrique Activity Index'].str.extract(r'(\\w+)$')\n",
    "\n",
    "df['Asymmetrique Profile Index'] = df['Asymmetrique Profile Index'].str.extract(r'(\\w+)$')\n",
    "\n",
    "def map_activity_index(score):\n",
    "    \n",
    "    if score >= 16:\n",
    "        return 'High'\n",
    "    elif 13 <= score < 16:\n",
    "        return 'Medium'\n",
    "    else:\n",
    "        return 'Low'\n",
    "\n",
    "df['Asymmetrique Activity Index'] = df['Asymmetrique Activity Index'].fillna(\n",
    "    df['Asymmetrique Activity Score'].apply(map_activity_index)\n",
    ")"
   ]
  },
  {
   "cell_type": "code",
   "execution_count": 58,
   "metadata": {},
   "outputs": [],
   "source": [
    "# Define mapping rules for Asymmetrique Profile Index\n",
    "import numpy as np\n",
    "def map_profile_index(score):\n",
    "    \n",
    "    if score >= 17:\n",
    "        return 'High'\n",
    "    elif 13 <= score < 17:\n",
    "        return 'Medium'\n",
    "    else:\n",
    "        return 'Low'\n",
    "\n",
    "#import numpy as np\n",
    "\n",
    "df['Asymmetrique Profile Index'] = df['Asymmetrique Profile Index'].fillna(\n",
    "    df['Asymmetrique Profile Score'].apply(map_profile_index)\n",
    ")\n"
   ]
  },
  {
   "cell_type": "code",
   "execution_count": 59,
   "metadata": {},
   "outputs": [],
   "source": [
    "df['Lead Profile']=df['Lead Profile'].replace('Other','Other Leads')"
   ]
  },
  {
   "cell_type": "code",
   "execution_count": 61,
   "metadata": {},
   "outputs": [],
   "source": [
    "cities = ['Mumbai', 'Thane & Outskirts', 'Other Cities of Maharashtra']\n",
    "\n",
    "# Define the function to replace 'Country' based on conditions\n",
    "def replace_country(row):\n",
    "    if row['City'] in cities and row['Country'] == 'Other':\n",
    "        return 'India'\n",
    "    else:\n",
    "        return row['Country']\n",
    "\n",
    "# Apply the function to each row\n",
    "df['Country'] = df.apply(replace_country, axis=1)"
   ]
  },
  {
   "cell_type": "code",
   "execution_count": 62,
   "metadata": {},
   "outputs": [],
   "source": [
    "df.to_csv('cleandata.csv', index=False)"
   ]
  }
 ],
 "metadata": {
  "kernelspec": {
   "display_name": "Python 3",
   "language": "python",
   "name": "python3"
  },
  "language_info": {
   "codemirror_mode": {
    "name": "ipython",
    "version": 3
   },
   "file_extension": ".py",
   "mimetype": "text/x-python",
   "name": "python",
   "nbconvert_exporter": "python",
   "pygments_lexer": "ipython3",
   "version": "3.12.9"
  }
 },
 "nbformat": 4,
 "nbformat_minor": 2
}
