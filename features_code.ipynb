{
 "cells": [
  {
   "cell_type": "code",
   "execution_count": null,
   "metadata": {},
   "outputs": [],
   "source": [
    "import pandas as pd\n",
    "from sklearn.preprocessing import LabelEncoder\n",
    "# Load the data\n",
    "df = pd.read_csv('cleandata.csv')\n",
    "\n",
    "# select the require columns\n",
    "selected_features=['Prospect ID','Do Not Email','Do Not Call','Converted','TotalVisits','Total Time Spent on Website','Country','What is your current occupation','Asymmetrique Activity Index','Asymmetrique Profile Index','A free copy of Mastering The Interview']\n",
    "df_selected = df[selected_features]\n",
    "\n",
    "# perform the one hot encoding\n",
    "df_selected['Activity Score'] = df['Asymmetrique Activity Index'].map({'Low':1,'Medium':2,'High':3})\n",
    "df_selected['Profile Score'] = df['Asymmetrique Profile Index'].map({'Low':1,'Medium':2,'High':3})\n",
    "\n",
    "# Apply Label Encoding to categorical columns\n",
    "label_enc = LabelEncoder()\n",
    "df_selected['Country'] = label_enc.fit_transform(df_selected['Country'])\n",
    "df_selected['What is your current occupation'] = label_enc.fit_transform(df_selected['What is your current occupation'])\n",
    "\n",
    "# FEATURE BUCKETING\n",
    "df_selected['Total Time Spent on Website'] = pd.qcut(df_selected['Total Time Spent on Website'], \n",
    "                                                     q=3, labels=['Low', 'Medium', 'High'],\n",
    "                                                     duplicates='drop')\n",
    "df_selected['Total Time Spent on Website'] = df_selected['Total Time Spent on Website'].map({'Low':1,'Medium':2,'High':3})\n",
    "\n",
    "df_selected.to_csv('model_features.csv', index=False)\n",
    "\n",
    "print(df_selected.head())\n"
   ]
  }
 ],
 "metadata": {
  "language_info": {
   "name": "python"
  }
 },
 "nbformat": 4,
 "nbformat_minor": 2
}
